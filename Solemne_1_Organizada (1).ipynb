{
 "cells": [
  {
   "cell_type": "markdown",
   "id": "header",
   "metadata": {},
   "source": [
    "Solemne 1\n",
    "\n",
    "**Estudiante:** Jaime Arriagada Rosas  \n",
    "**Fecha:** 29 de septiembre de 2025  \n",
    "**Curso:** Fundamentos de inteligencia artificial\n",
    "\n",
    "Esta solemne presenta la implementación de cuatro desafíos algorítmicos utilizando diferentes técnicas de resolución:\n",
    "1. Cálculo de determinantes (recursivo vs iterativo)\n",
    "2. Problema de la mochila (backtracking vs fuerza bruta)\n",
    "3. Asignación óptima de memoria (backtracking, DFS, fuerza bruta)\n",
    "4. Resolución de Sudoku (backtracking)\n",
    "\n",
    "---"
   ]
  },
  {
   "cell_type": "code",
   "execution_count": 25,
   "id": "imports",
   "metadata": {},
   "outputs": [],
   "source": [
    "# Librerías\n",
    "import numpy as np\n",
    "import random"
   ]
  },
  {
   "cell_type": "markdown",
   "id": "desafio1-header",
   "metadata": {},
   "source": [
    "## Desafío 1: Resolución de Determinantes\n",
    "\n",
    "**Objetivo:** Calcular el determinante de una matriz cuadrada utilizando dos enfoques diferentes:\n",
    "- **Algoritmo recursivo:** Expansión por cofactores\n",
    "- **Algoritmo iterativo:** Eliminación gaussiana\n",
    "\n",
    "**Consideraciones especiales:**\n",
    "- Matrices de tamaño 0x0 tienen determinante = 1 por convención\n",
    "- El caso base 1x1 se maneja directamente\n",
    "- Se generan matrices aleatorias con elementos entre -10 y 10"
   ]
  },
  {
   "cell_type": "code",
   "execution_count": 1,
   "id": "desafio1-input",
   "metadata": {},
   "outputs": [
    {
     "name": "stdin",
     "output_type": "stream",
     "text": [
      "Ingresa el tamaño de la matriz (n x n):  3\n"
     ]
    }
   ],
   "source": [
    "# Solicitar tamaño de matriz\n",
    "n = 0\n",
    "while n <= 0:\n",
    "    n = int(input(\"Ingresa el tamaño de la matriz (n x n): \"))\n",
    "    if n <= 0:\n",
    "        print(\"Error: El tamaño debe ser un número positivo mayor que 0\")"
   ]
  },
  {
   "cell_type": "code",
   "execution_count": 5,
   "id": "desafio1-generate",
   "metadata": {},
   "outputs": [
    {
     "name": "stdout",
     "output_type": "stream",
     "text": [
      "Matriz generada:\n",
      "[2, -7, 6]\n",
      "[-1, 7, 4]\n",
      "[7, 7, 7]\n"
     ]
    }
   ],
   "source": [
    "# Generar matriz aleatoria\n",
    "matriz = [[random.randint(-10, 10) for _ in range(n)] for _ in range(n)]\n",
    "\n",
    "print(\"Matriz generada:\")\n",
    "for fila in matriz:\n",
    "    print(fila)"
   ]
  },
  {
   "cell_type": "code",
   "execution_count": 6,
   "id": "desafio1-recursive",
   "metadata": {},
   "outputs": [
    {
     "name": "stdout",
     "output_type": "stream",
     "text": [
      "Determinante (método recursivo): -539\n"
     ]
    }
   ],
   "source": [
    "# Método recursivo\n",
    "def determinante_recursivo(matriz):\n",
    "    n = len(matriz)\n",
    "    \n",
    "    # Caso base\n",
    "    if n == 1:\n",
    "        return matriz[0][0]\n",
    "    \n",
    "    det = 0\n",
    "    for j in range(n):\n",
    "        # Crear submatriz eliminando fila 0 y columna j\n",
    "        submatriz = [[matriz[i][k] for k in range(n) if k != j] \n",
    "                     for i in range(1, n)]\n",
    "        \n",
    "        # Calcular cofactor con signo alternado\n",
    "        signo = (-1) ** j\n",
    "        cofactor = signo * matriz[0][j] * determinante_recursivo(submatriz)\n",
    "        det += cofactor\n",
    "    \n",
    "    return det\n",
    "\n",
    "det_recursivo = determinante_recursivo(matriz)\n",
    "print(f\"Determinante (método recursivo): {det_recursivo}\")"
   ]
  },
  {
   "cell_type": "code",
   "execution_count": 10,
   "id": "desafio1-iterative",
   "metadata": {},
   "outputs": [
    {
     "name": "stdout",
     "output_type": "stream",
     "text": [
      "Determinante (método iterativo): -539.0\n"
     ]
    }
   ],
   "source": [
    "# Método iterativo\n",
    "def determinante_iterativo(matriz):\n",
    "    # Copia para no modificar la original\n",
    "    mat = [fila[:] for fila in matriz]\n",
    "    n = len(mat)\n",
    "    det = 1\n",
    "    \n",
    "    for i in range(n):\n",
    "        # Buscar pivote máximo\n",
    "        pivote_fila = max(range(i, n), key=lambda j: abs(mat[j][i]))\n",
    "        \n",
    "        # Si el pivote es cero, determinante = 0\n",
    "        if abs(mat[pivote_fila][i]) < 1e-10:\n",
    "            return 0\n",
    "        \n",
    "        # Intercambiar filas si es necesario\n",
    "        if pivote_fila != i:\n",
    "            mat[i], mat[pivote_fila] = mat[pivote_fila], mat[i]\n",
    "            det *= -1\n",
    "        \n",
    "        pivote = mat[i][i]\n",
    "        det *= pivote\n",
    "        \n",
    "        # Eliminar elementos debajo del pivote\n",
    "        for j in range(i + 1, n):\n",
    "            factor = mat[j][i] / pivote\n",
    "            for k in range(i + 1, n):\n",
    "                mat[j][k] -= factor * mat[i][k]\n",
    "    \n",
    "    return det\n",
    "\n",
    "det_iterativo = determinante_iterativo(matriz)\n",
    "print(f\"Determinante (método iterativo): {det_iterativo}\")"
   ]
  },
  {
   "cell_type": "markdown",
   "id": "desafio2-header",
   "metadata": {},
   "source": [
    "## Desafío 2: Problema de la Mochila\n",
    "\n",
    "**Objetivo:** Resolver el problema clásico de la mochila 0/1 donde se debe maximizar el valor de los objetos seleccionados sin exceder la capacidad de peso.\n",
    "\n",
    "**Enfoques implementados:**\n",
    "- **Backtracking:** Exploración sistemática con poda\n",
    "- **Fuerza bruta:** Evaluación de todas las combinaciones posibles"
   ]
  },
  {
   "cell_type": "code",
   "execution_count": 11,
   "id": "desafio2-setup",
   "metadata": {},
   "outputs": [
    {
     "name": "stdin",
     "output_type": "stream",
     "text": [
      "Ingrese el número de objetos:  5\n",
      "Ingrese la capacidad máxima de la mochila:  15\n"
     ]
    },
    {
     "name": "stdout",
     "output_type": "stream",
     "text": [
      "\n",
      "Objetos disponibles:\n",
      "Objeto_1: peso=10, valor=5\n",
      "Objeto_2: peso=13, valor=3\n",
      "Objeto_3: peso=15, valor=1\n",
      "Objeto_4: peso=3, valor=2\n",
      "Objeto_5: peso=8, valor=7\n"
     ]
    }
   ],
   "source": [
    "# Configuración del problema\n",
    "n_objetos = int(input(\"Ingrese el número de objetos: \"))\n",
    "capacidad = int(input(\"Ingrese la capacidad máxima de la mochila: \"))\n",
    "\n",
    "# Generar objetos aleatorios (nombre, peso, valor)\n",
    "objetos = [(f\"Objeto_{i+1}\", random.randint(1, capacidad), random.randint(1, 10)) \n",
    "           for i in range(n_objetos)]\n",
    "\n",
    "print(\"\\nObjetos disponibles:\")\n",
    "for nombre, peso, valor in objetos:\n",
    "    print(f\"{nombre}: peso={peso}, valor={valor}\")"
   ]
  },
  {
   "cell_type": "code",
   "execution_count": 30,
   "id": "desafio2-backtracking",
   "metadata": {},
   "outputs": [
    {
     "name": "stdout",
     "output_type": "stream",
     "text": [
      "Mejor valor: 9\n",
      "Combinación óptima: ['Objeto_4', 'Objeto_5']\n",
      "Peso total: 11/15\n"
     ]
    }
   ],
   "source": [
    "# Método backtracking\n",
    "def mochila_backtracking(objetos, capacidad):\n",
    "    mejor_valor, mejor_combinacion = 0, []\n",
    "    \n",
    "    def bt(i=0, peso=0, valor=0, comb=[]):\n",
    "        nonlocal mejor_valor, mejor_combinacion\n",
    "        \n",
    "        if i == len(objetos):\n",
    "            if valor > mejor_valor:\n",
    "                mejor_valor, mejor_combinacion = valor, comb.copy()\n",
    "            return\n",
    "        \n",
    "        nombre, p, v = objetos[i]\n",
    "        \n",
    "        # No tomar el objeto\n",
    "        bt(i + 1, peso, valor, comb)\n",
    "        \n",
    "        # Tomar el objeto si cabe\n",
    "        if peso + p <= capacidad:\n",
    "            comb.append(nombre)\n",
    "            bt(i + 1, peso + p, valor + v, comb)\n",
    "            comb.pop()\n",
    "    \n",
    "    bt()\n",
    "    peso_total = sum(p for n, p, v in objetos if n in mejor_combinacion)\n",
    "    return mejor_valor, mejor_combinacion, peso_total\n",
    "\n",
    "valor_bt, combinacion_bt, peso_bt = mochila_backtracking(objetos, capacidad)\n",
    "print(f\"Mejor valor: {valor_bt}\")\n",
    "print(f\"Combinación óptima: {combinacion_fb}\")\n",
    "print(f\"Peso total: {peso_fb}/{capacidad}\")"
   ]
  },
  {
   "cell_type": "code",
   "execution_count": 29,
   "id": "desafio2-bruteforce",
   "metadata": {},
   "outputs": [
    {
     "name": "stdout",
     "output_type": "stream",
     "text": [
      "Mejor valor: 9\n",
      "Combinación óptima: ['Objeto_4', 'Objeto_5']\n",
      "Peso total: 11/15\n"
     ]
    }
   ],
   "source": [
    "# Método fuerza bruta\n",
    "def mochila_fuerza_bruta(objetos, capacidad):\n",
    "    n = len(objetos)\n",
    "    mejor_valor, mejor_combinacion = 0, []\n",
    "    \n",
    "    # Probar todas las 2^n combinaciones\n",
    "    for i in range(1, 2**n):\n",
    "        peso_actual = valor_actual = 0\n",
    "        combinacion_actual = []\n",
    "        \n",
    "        for j in range(n):\n",
    "            if (i >> j) & 1:  # Si el bit j está activo\n",
    "                nombre, peso, valor = objetos[j]\n",
    "                peso_actual += peso\n",
    "                valor_actual += valor\n",
    "                combinacion_actual.append(nombre)\n",
    "        \n",
    "        if peso_actual <= capacidad and valor_actual > mejor_valor:\n",
    "            mejor_valor = valor_actual\n",
    "            mejor_combinacion = combinacion_actual.copy()\n",
    "    \n",
    "    peso_total = sum(p for nombre, p, _ in objetos if nombre in mejor_combinacion)\n",
    "    return mejor_valor, mejor_combinacion, peso_total\n",
    "\n",
    "valor_fb, combinacion_fb, peso_fb = mochila_fuerza_bruta(objetos, capacidad)\n",
    "print(f\"Mejor valor: {valor_bt}\")\n",
    "print(f\"Combinación óptima: {combinacion_fb}\")\n",
    "print(f\"Peso total: {peso_fb}/{capacidad}\")"
   ]
  },
  {
   "cell_type": "markdown",
   "id": "desafio3-header",
   "metadata": {},
   "source": [
    "## Desafío 3\n",
    "\n",
    "**Objetivo:** Resolver un problema de asignación de recursos donde se debe maximizar la prioridad total de los procesos asignados, respetando restricciones de memoria y compatibilidad.\n",
    "\n",
    "**Restricciones:**\n",
    "- Memoria total limitada\n",
    "- Algunos procesos no pueden ejecutarse simultáneamente\n",
    "- Cada proceso tiene memoria requerida y prioridad asociada\n",
    "\n",
    "**Algoritmos comparados:**\n",
    "1. **Backtracking:** Poda inteligente del espacio de búsqueda\n",
    "2. **DFS (Búsqueda en Profundidad):** Exploración sistemática\n",
    "3. **Fuerza Bruta:** Evaluación exhaustiva de combinaciones\n",
    "\n",
    "**Aplicación práctica:** Gestión de recursos en sistemas operativos"
   ]
  },
  {
   "cell_type": "code",
   "execution_count": 18,
   "id": "desafio3-setup",
   "metadata": {},
   "outputs": [
    {
     "name": "stdout",
     "output_type": "stream",
     "text": [
      "Memoria disponible: 50 MB\n",
      "\n",
      "Procesos:\n",
      "  P1: 20 MB, prioridad 1\n",
      "  P2: 20 MB, prioridad 3\n",
      "  P3: 20 MB, prioridad 5\n",
      "  P4: 9 MB, prioridad 2\n",
      "  P5: 22 MB, prioridad 1\n",
      "\n",
      "Restricciones:\n",
      "  P3 y P5 incompatibles\n",
      "  P2 y P5 incompatibles\n"
     ]
    }
   ],
   "source": [
    "# Configuración del problema de memoria\n",
    "n_procesos = 5\n",
    "memoria_total = 50  # MB\n",
    "\n",
    "# Generar procesos aleatorios\n",
    "procesos = [(f\"P{i+1}\", random.randint(5, 25), random.randint(1, 10)) \n",
    "            for i in range(n_procesos)]\n",
    "\n",
    "# Generar restricciones de compatibilidad\n",
    "restricciones = []\n",
    "for _ in range(n_procesos // 2):\n",
    "    p1, p2 = random.sample(range(n_procesos), 2)\n",
    "    if (p2, p1) not in restricciones:\n",
    "        restricciones.append((p1, p2))\n",
    "\n",
    "print(f\"Memoria disponible: {memoria_total} MB\")\n",
    "print(\"\\nProcesos:\")\n",
    "for i, (nombre, mem, prio) in enumerate(procesos):\n",
    "    print(f\"  {nombre}: {mem} MB, prioridad {prio}\")\n",
    "\n",
    "print(\"\\nRestricciones:\")\n",
    "for p1, p2 in restricciones:\n",
    "    print(f\"  {procesos[p1][0]} y {procesos[p2][0]} incompatibles\")"
   ]
  },
  {
   "cell_type": "code",
   "execution_count": 19,
   "id": "desafio3-backtracking",
   "metadata": {},
   "outputs": [
    {
     "name": "stdout",
     "output_type": "stream",
     "text": [
      "\n",
      "Backtracking: ['P2', 'P3', 'P4'] | Prioridad: 10 | Memoria: 49/50 MB\n"
     ]
    }
   ],
   "source": [
    "# Backtracking para asignación de memoria\n",
    "def asignacion_backtracking(procesos, memoria_total, restricciones):\n",
    "    mejor_asignacion, mejor_prioridad = [], 0\n",
    "    \n",
    "    def es_valido(asignacion, nuevo_proceso):\n",
    "        for p1, p2 in restricciones:\n",
    "            if nuevo_proceso == p1 and p2 in asignacion:\n",
    "                return False\n",
    "            if nuevo_proceso == p2 and p1 in asignacion:\n",
    "                return False\n",
    "        return True\n",
    "    \n",
    "    def backtrack(indice, asignacion, memoria_usada, prioridad_total):\n",
    "        nonlocal mejor_asignacion, mejor_prioridad\n",
    "        \n",
    "        if indice == len(procesos):\n",
    "            if prioridad_total > mejor_prioridad:\n",
    "                mejor_asignacion, mejor_prioridad = asignacion.copy(), prioridad_total\n",
    "            return\n",
    "        \n",
    "        # No asignar proceso actual\n",
    "        backtrack(indice + 1, asignacion, memoria_usada, prioridad_total)\n",
    "        \n",
    "        # Asignar proceso actual si es válido\n",
    "        nombre, mem, prio = procesos[indice]\n",
    "        if memoria_usada + mem <= memoria_total and es_valido(asignacion, indice):\n",
    "            asignacion.append(indice)\n",
    "            backtrack(indice + 1, asignacion, memoria_usada + mem, prioridad_total + prio)\n",
    "            asignacion.pop()\n",
    "    \n",
    "    backtrack(0, [], 0, 0)\n",
    "    \n",
    "    nombres = [procesos[i][0] for i in mejor_asignacion]\n",
    "    memoria_usada = sum(procesos[i][1] for i in mejor_asignacion)\n",
    "    return nombres, mejor_prioridad, memoria_usada\n",
    "\n",
    "asign_bt, prio_bt, mem_bt = asignacion_backtracking(procesos, memoria_total, restricciones)\n",
    "print(f\"\\nBacktracking: {asign_bt} | Prioridad: {prio_bt} | Memoria: {mem_bt}/{memoria_total} MB\")"
   ]
  },
  {
   "cell_type": "code",
   "execution_count": 20,
   "id": "desafio3-comparison",
   "metadata": {},
   "outputs": [
    {
     "name": "stdout",
     "output_type": "stream",
     "text": [
      "Fuerza bruta: ['P2', 'P3', 'P4'] | Prioridad: 10 | Memoria: 49/50 MB\n"
     ]
    }
   ],
   "source": [
    "# Comparación con otros métodos (simplificado)\n",
    "def asignacion_fuerza_bruta(procesos, memoria_total, restricciones):\n",
    "    mejor_asignacion, mejor_prioridad = [], 0\n",
    "    n = len(procesos)\n",
    "    \n",
    "    for mascara in range(1, 2**n):\n",
    "        asignacion = [i for i in range(n) if (mascara >> i) & 1]\n",
    "        \n",
    "        # Verificar memoria\n",
    "        memoria_total_usada = sum(procesos[i][1] for i in asignacion)\n",
    "        if memoria_total_usada > memoria_total:\n",
    "            continue\n",
    "        \n",
    "        # Verificar restricciones\n",
    "        valido = True\n",
    "        for p1, p2 in restricciones:\n",
    "            if p1 in asignacion and p2 in asignacion:\n",
    "                valido = False\n",
    "                break\n",
    "        \n",
    "        if valido:\n",
    "            prioridad_total = sum(procesos[i][2] for i in asignacion)\n",
    "            if prioridad_total > mejor_prioridad:\n",
    "                mejor_asignacion, mejor_prioridad = asignacion, prioridad_total\n",
    "    \n",
    "    nombres = [procesos[i][0] for i in mejor_asignacion]\n",
    "    memoria_usada = sum(procesos[i][1] for i in mejor_asignacion)\n",
    "    return nombres, mejor_prioridad, memoria_usada\n",
    "\n",
    "asign_fb, prio_fb, mem_fb = asignacion_fuerza_bruta(procesos, memoria_total, restricciones)\n",
    "print(f\"Fuerza bruta: {asign_fb} | Prioridad: {prio_fb} | Memoria: {mem_fb}/{memoria_total} MB\")"
   ]
  },
  {
   "cell_type": "markdown",
   "id": "desafio4-header",
   "metadata": {},
   "source": [
    "## Desafío 4: Resolución de Sudoku\n",
    "\n",
    "**Objetivo:** Resolver un puzzle de Sudoku 9×9 utilizando el algoritmo de backtracking.\n",
    "\n",
    "**Reglas del Sudoku:**\n",
    "- Cada fila debe contener los números 1-9 sin repetición\n",
    "- Cada columna debe contener los números 1-9 sin repetición  \n",
    "- Cada subcuadrícula 3×3 debe contener los números 1-9 sin repetición\n",
    "\n",
    "**Algoritmo backtracking:**\n",
    "1. Encontrar la próxima casilla vacía\n",
    "2. Probar números del 1 al 9\n",
    "3. Verificar si el número es válido según las reglas\n",
    "4. Si es válido, colocar y continuar recursivamente\n",
    "5. Si no hay solución, retroceder (backtrack)"
   ]
  },
  {
   "cell_type": "code",
   "execution_count": 21,
   "id": "desafio4-setup",
   "metadata": {},
   "outputs": [
    {
     "name": "stdout",
     "output_type": "stream",
     "text": [
      "=== SUDOKU - BACKTRACKING ===\n",
      "\n",
      "Tablero inicial:\n",
      "5 3 . | . 7 . | . . . \n",
      "6 . . | 1 9 5 | . . . \n",
      ". 9 8 | . . . | . 6 . \n",
      "------+-------+------\n",
      "8 . . | . 6 . | . . 3 \n",
      "4 . . | 8 . 3 | . . 1 \n",
      "7 . . | . 2 . | . . 6 \n",
      "------+-------+------\n",
      ". 6 . | . . . | 2 8 . \n",
      ". . . | 4 1 9 | . . 5 \n",
      ". . . | . 8 . | . 7 9 \n"
     ]
    }
   ],
   "source": [
    "# Configuración del Sudoku\n",
    "def crear_tablero():\n",
    "    return [\n",
    "        [5, 3, 0, 0, 7, 0, 0, 0, 0],\n",
    "        [6, 0, 0, 1, 9, 5, 0, 0, 0],\n",
    "        [0, 9, 8, 0, 0, 0, 0, 6, 0],\n",
    "        [8, 0, 0, 0, 6, 0, 0, 0, 3],\n",
    "        [4, 0, 0, 8, 0, 3, 0, 0, 1],\n",
    "        [7, 0, 0, 0, 2, 0, 0, 0, 6],\n",
    "        [0, 6, 0, 0, 0, 0, 2, 8, 0],\n",
    "        [0, 0, 0, 4, 1, 9, 0, 0, 5],\n",
    "        [0, 0, 0, 0, 8, 0, 0, 7, 9]\n",
    "    ]\n",
    "\n",
    "def mostrar_tablero(tablero):\n",
    "    for i, fila in enumerate(tablero):\n",
    "        if i % 3 == 0 and i != 0:\n",
    "            print(\"------+-------+------\")\n",
    "        \n",
    "        fila_str = \"\"\n",
    "        for j, num in enumerate(fila):\n",
    "            if j % 3 == 0 and j != 0:\n",
    "                fila_str += \"| \"\n",
    "            fila_str += f\"{num if num != 0 else '.'} \"\n",
    "        print(fila_str)\n",
    "\n",
    "print(\"=== SUDOKU - BACKTRACKING ===\")\n",
    "tablero = crear_tablero()\n",
    "print(\"\\nTablero inicial:\")\n",
    "mostrar_tablero(tablero)"
   ]
  },
  {
   "cell_type": "code",
   "execution_count": 31,
   "id": "desafio4-functions",
   "metadata": {},
   "outputs": [],
   "source": [
    "# Funciones de validación\n",
    "def es_valido(tablero, fila, col, num):\n",
    "    # Verificar fila\n",
    "    if num in tablero[fila]:\n",
    "        return False\n",
    "    \n",
    "    # Verificar columna\n",
    "    if num in [tablero[i][col] for i in range(9)]:\n",
    "        return False\n",
    "    \n",
    "    # Verificar subcuadrícula 3x3\n",
    "    inicio_fila, inicio_col = 3 * (fila // 3), 3 * (col // 3)\n",
    "    for i in range(3):\n",
    "        for j in range(3):\n",
    "            if tablero[inicio_fila + i][inicio_col + j] == num:\n",
    "                return False\n",
    "    \n",
    "    return True\n",
    "\n",
    "def encontrar_vacio(tablero):\n",
    "    for i in range(9):\n",
    "        for j in range(9):\n",
    "            if tablero[i][j] == 0:\n",
    "                return (i, j)\n",
    "    return None"
   ]
  },
  {
   "cell_type": "code",
   "execution_count": 32,
   "id": "desafio4-solver",
   "metadata": {},
   "outputs": [
    {
     "name": "stdout",
     "output_type": "stream",
     "text": [
      "\n",
      "Resolviendo...\n",
      "\n",
      "✅ Sudoku resuelto:\n",
      "5 3 4 | 6 7 8 | 9 1 2 \n",
      "6 7 2 | 1 9 5 | 3 4 8 \n",
      "1 9 8 | 3 4 2 | 5 6 7 \n",
      "------+-------+------\n",
      "8 5 9 | 7 6 1 | 4 2 3 \n",
      "4 2 6 | 8 5 3 | 7 9 1 \n",
      "7 1 3 | 9 2 4 | 8 5 6 \n",
      "------+-------+------\n",
      "9 6 1 | 5 3 7 | 2 8 4 \n",
      "2 8 7 | 4 1 9 | 6 3 5 \n",
      "3 4 5 | 2 8 6 | 1 7 9 \n"
     ]
    }
   ],
   "source": [
    "# Resolver Sudoku con backtracking\n",
    "def resolver_sudoku(tablero):\n",
    "    vacio = encontrar_vacio(tablero)\n",
    "    if not vacio:\n",
    "        return True  # Sudoku resuelto\n",
    "    \n",
    "    fila, col = vacio\n",
    "    \n",
    "    for num in range(1, 10):\n",
    "        if es_valido(tablero, fila, col, num):\n",
    "            tablero[fila][col] = num\n",
    "            \n",
    "            if resolver_sudoku(tablero):\n",
    "                return True\n",
    "            \n",
    "            # Backtrack\n",
    "            tablero[fila][col] = 0\n",
    "    \n",
    "    return False\n",
    "\n",
    "# Resolver y mostrar resultado\n",
    "tablero_copia = [fila[:] for fila in tablero]\n",
    "\n",
    "print(\"\\nResolviendo...\")\n",
    "if resolver_sudoku(tablero_copia):\n",
    "    print(\"\\n✅ Sudoku resuelto:\")\n",
    "    mostrar_tablero(tablero_copia)\n",
    "else:\n",
    "    print(\"❌ No se encontró solución\")"
   ]
  },
  {
   "cell_type": "markdown",
   "id": "conclusion",
   "metadata": {},
   "source": []
  }
 ],
 "metadata": {
  "kernelspec": {
   "display_name": "Python 3 (ipykernel)",
   "language": "python",
   "name": "python3"
  },
  "language_info": {
   "codemirror_mode": {
    "name": "ipython",
    "version": 3
   },
   "file_extension": ".py",
   "mimetype": "text/x-python",
   "name": "python",
   "nbconvert_exporter": "python",
   "pygments_lexer": "ipython3",
   "version": "3.13.5"
  }
 },
 "nbformat": 4,
 "nbformat_minor": 5
}
